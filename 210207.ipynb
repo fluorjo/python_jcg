{
 "cells": [
  {
   "cell_type": "code",
   "execution_count": 1,
   "metadata": {},
   "outputs": [],
   "source": [
    "a=100\n",
    "result=0"
   ]
  },
  {
   "cell_type": "code",
   "execution_count": 8,
   "metadata": {},
   "outputs": [
    {
     "name": "stdout",
     "output_type": "stream",
     "text": [
      "50\n",
      "51\n",
      "25\n",
      "26\n"
     ]
    }
   ],
   "source": [
    "for i in range(1,3):\n",
    "    result=a>>i\n",
    "    print(result)\n",
    "    result=result+1\n",
    "    print(result)\n",
    "#a는 반복문으로 인해 1/2, 1/4로 줄어들지만,\n",
    "# result그냥 그 값을 따라갈 뿐 뭐 더해지거나 하는 건 없음.\n",
    "#따라서 마지막 a 값에 1 더하기만 하면 됨."
   ]
  },
  {
   "cell_type": "markdown",
   "metadata": {},
   "source": [
    "# >>, << 비트단위시프트 연산자.\n",
    "'<<' = 왼쪽 비트시프트 =지정한 비트수 만큼 2배씩 늘어남.\n",
    "'>>' = 오른쪽 비트시프트=지정한 비트수 만큼 1/2씩 줄어듬.\n",
    "비트수가 0이면 변함 없음.\n",
    "1일 때부터 2 (1/2) ...하면서 변화됨. 2n승의 n이라고 생각하면 편할 듯. \n",
    "소수점 아래 값 생기면 자동으로 버려지고 몫만 출력됨."
   ]
  },
  {
   "cell_type": "code",
   "execution_count": 10,
   "metadata": {},
   "outputs": [
    {
     "name": "stdout",
     "output_type": "stream",
     "text": [
      "12\n"
     ]
    }
   ],
   "source": [
    "c=100\n",
    "c=c>>3\n",
    "print(c)"
   ]
  }
 ],
 "metadata": {
  "kernelspec": {
   "display_name": "Python 3.10.6 64-bit",
   "language": "python",
   "name": "python3"
  },
  "language_info": {
   "codemirror_mode": {
    "name": "ipython",
    "version": 3
   },
   "file_extension": ".py",
   "mimetype": "text/x-python",
   "name": "python",
   "nbconvert_exporter": "python",
   "pygments_lexer": "ipython3",
   "version": "3.10.6"
  },
  "orig_nbformat": 4,
  "vscode": {
   "interpreter": {
    "hash": "943f9cf20c708eadff24a0843a89ada15c0bfda2c0973c58ba1e0f04f1fd7212"
   }
  }
 },
 "nbformat": 4,
 "nbformat_minor": 2
}
