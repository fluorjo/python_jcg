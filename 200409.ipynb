{
 "cells": [
  {
   "cell_type": "code",
   "execution_count": 1,
   "metadata": {},
   "outputs": [
    {
     "name": "stdout",
     "output_type": "stream",
     "text": [
      "[1, 2, 3]\n",
      "7\n"
     ]
    }
   ],
   "source": [
    "lol=[[1,2,3],[4,5],[6,7,8,9]]\n",
    "print(lol[0])\n",
    "print(lol[2][1])\n",
    "\n"
   ]
  },
  {
   "cell_type": "code",
   "execution_count": 11,
   "metadata": {},
   "outputs": [
    {
     "name": "stdout",
     "output_type": "stream",
     "text": [
      "1\n",
      "2\n",
      "3\n",
      "4\n",
      "5\n",
      "6\n",
      "7\n",
      "8\n",
      "9\n"
     ]
    }
   ],
   "source": [
    "for sub in lol:\n",
    "    for item in sub:\n",
    "        print(item)"
   ]
  },
  {
   "cell_type": "code",
   "execution_count": 13,
   "metadata": {},
   "outputs": [
    {
     "name": "stdout",
     "output_type": "stream",
     "text": [
      "1   2   3   4   5   6   7   8   9   "
     ]
    }
   ],
   "source": [
    "for sub in lol:\n",
    "    for item in sub:\n",
    "        print(item,end=\"   \")\n",
    "        #end를 지정하면 각 요소 출력한 뒤에 end가 붙어서 나오나 봄."
   ]
  },
  {
   "cell_type": "code",
   "execution_count": 23,
   "metadata": {},
   "outputs": [
    {
     "name": "stdout",
     "output_type": "stream",
     "text": [
      "1   2   3   \n",
      "4   5   \n",
      "6   7   8   9   \n"
     ]
    }
   ],
   "source": [
    "for sub in lol:\n",
    "    for item in sub:\n",
    "        print(item,end=\"   \")\n",
    "    print()\n",
    "    #별 거 아니고 그냥 item 출력 후에 sub으로 돌아가기 전에 빈칸 출력하는 거. \n",
    "    #근데 특이한 건 이게 줄바꿈 주는 효과가 있는 거. 알아두기.\n"
   ]
  },
  {
   "cell_type": "code",
   "execution_count": 25,
   "metadata": {},
   "outputs": [
    {
     "name": "stdout",
     "output_type": "stream",
     "text": [
      "1   2   3   끝\n",
      "4   5   끝\n",
      "6   7   8   9   끝\n"
     ]
    }
   ],
   "source": [
    "for sub in lol:\n",
    "    for item in sub:\n",
    "        print(item,end=\"   \")\n",
    "    print(\"끝\")"
   ]
  }
 ],
 "metadata": {
  "kernelspec": {
   "display_name": "Python 3.10.6 64-bit",
   "language": "python",
   "name": "python3"
  },
  "language_info": {
   "codemirror_mode": {
    "name": "ipython",
    "version": 3
   },
   "file_extension": ".py",
   "mimetype": "text/x-python",
   "name": "python",
   "nbconvert_exporter": "python",
   "pygments_lexer": "ipython3",
   "version": "3.10.6"
  },
  "orig_nbformat": 4,
  "vscode": {
   "interpreter": {
    "hash": "943f9cf20c708eadff24a0843a89ada15c0bfda2c0973c58ba1e0f04f1fd7212"
   }
  }
 },
 "nbformat": 4,
 "nbformat_minor": 2
}
